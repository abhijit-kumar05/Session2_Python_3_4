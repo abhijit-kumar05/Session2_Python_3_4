{
 "cells": [
  {
   "cell_type": "code",
   "execution_count": 187,
   "metadata": {},
   "outputs": [],
   "source": [
    "import numpy as np\n",
    "import math\n",
    "import pandas as pd"
   ]
  },
  {
   "cell_type": "code",
   "execution_count": 188,
   "metadata": {},
   "outputs": [],
   "source": [
    "# Task1 - Q1.1 Write a Python Program to implement your own myreduce() function which works exactly like\n",
    "#            Python's built-in function reduce()"
   ]
  },
  {
   "cell_type": "code",
   "execution_count": 189,
   "metadata": {},
   "outputs": [
    {
     "name": "stdout",
     "output_type": "stream",
     "text": [
      "5\n"
     ]
    }
   ],
   "source": [
    "def myreduce(list,first,second):\n",
    "    if(first<=second):\n",
    "        minimum = first\n",
    "    else:\n",
    "        minimum = second\n",
    "    for val in list[2:]:\n",
    "        if(val<=minimum):\n",
    "            minimum = val\n",
    "    return minimum       \n",
    "list=[8,6,20,25,9,10,14,5,7,18]\n",
    "print(myreduce(list,list[0],list[1]))"
   ]
  },
  {
   "cell_type": "code",
   "execution_count": 190,
   "metadata": {},
   "outputs": [],
   "source": [
    "# Task1 - Q1.2 Write a Python program to implement your own myfilter() function which works exactly like\n",
    "#            Python's built-in function filter()"
   ]
  },
  {
   "cell_type": "code",
   "execution_count": 191,
   "metadata": {},
   "outputs": [],
   "source": [
    "#Using python's filter function\n",
    "#Check whether the numbers in the list is odd or even\n",
    "\n",
    "def check_even(num):\n",
    "    return num%2 == 0\n",
    "\n",
    "#  filter function\n",
    "my_list = [3,4,6,99,62,46,87,99,100]\n",
    "#list1 = list(filter(chk_even,my_list))\n"
   ]
  },
  {
   "cell_type": "code",
   "execution_count": 194,
   "metadata": {},
   "outputs": [],
   "source": [
    "## My own filter function to check even numbers\n",
    "def myfilter(my_list):\n",
    "    even_list=[]\n",
    "    for i in my_list:\n",
    "        if(i%2==0):\n",
    "            even_list.append(i)\n",
    "    return even_list"
   ]
  },
  {
   "cell_type": "code",
   "execution_count": 195,
   "metadata": {},
   "outputs": [
    {
     "data": {
      "text/plain": [
       "[4, 6, 62, 46, 100]"
      ]
     },
     "execution_count": 195,
     "metadata": {},
     "output_type": "execute_result"
    }
   ],
   "source": [
    "my_list = [3,4,6,99,62,46,87,99,100]\n",
    "myfilter(my_list)\n"
   ]
  },
  {
   "cell_type": "code",
   "execution_count": 196,
   "metadata": {},
   "outputs": [],
   "source": [
    "# Task 1 - Q2\n",
    "#   Implement List comprehensions to produce the following lists.\n",
    "#    Write List comprehensions to produce the following Lists\n",
    "#   ['A', 'C', 'A', 'D', 'G', 'I', ’L’, ‘ D’]\n",
    "#    ['x', 'xx', 'xxx', 'xxxx', 'y', 'yy', 'yyy', 'yyyy', 'z', 'zz', 'zzz', 'zzzz']\n",
    "#   ['x', 'y', 'z', 'xx', 'yy', 'zz', 'xx', 'yy', 'zz', 'xxxx', 'yyyy', 'zzzz']\n",
    "#    [[2], [3], [4], [3], [4], [5], [4], [5], [6]]\n",
    "#    [[2, 3, 4, 5], [3, 4, 5, 6], [4, 5, 6, 7], [5, 6, 7, 8]]\n",
    "#    [(1, 1), (2, 1), (3, 1), (1, 2), (2, 2), (3, 2), (1, 3), (2, 3), (3, 3)]"
   ]
  },
  {
   "cell_type": "code",
   "execution_count": 197,
   "metadata": {},
   "outputs": [
    {
     "data": {
      "text/plain": [
       "['A', 'C', 'A', 'D', 'G', 'I', 'L', 'D']"
      ]
     },
     "execution_count": 197,
     "metadata": {},
     "output_type": "execute_result"
    }
   ],
   "source": [
    "#   ['A', 'C', 'A', 'D', 'G', 'I', ’L’, ‘ D’]\n",
    "mylist = [x for x in 'ACADGILD']\n",
    "mylist"
   ]
  },
  {
   "cell_type": "code",
   "execution_count": 198,
   "metadata": {},
   "outputs": [
    {
     "data": {
      "text/plain": [
       "['x', 'xx', 'xxx', 'xxxx', 'y', 'yy', 'yyy', 'yyyy', 'z', 'zz', 'zzz', 'zzzz']"
      ]
     },
     "execution_count": 198,
     "metadata": {},
     "output_type": "execute_result"
    }
   ],
   "source": [
    "#    ['x', 'xx', 'xxx', 'xxxx', 'y', 'yy', 'yyy', 'yyyy', 'z', 'zz', 'zzz', 'zzzz']\n",
    "printrange = range(1,5)\n",
    "mylist = ['x','y','z']\n",
    "newlist = [a*b for a in mylist for b in printrange]\n",
    "newlist"
   ]
  },
  {
   "cell_type": "code",
   "execution_count": 199,
   "metadata": {},
   "outputs": [
    {
     "data": {
      "text/plain": [
       "['x', 'y', 'z', 'xx', 'yy', 'zz', 'xx', 'yy', 'zz', 'xxxx', 'yyyy', 'zzzz']"
      ]
     },
     "execution_count": 199,
     "metadata": {},
     "output_type": "execute_result"
    }
   ],
   "source": [
    "printrange = range(1,3)\n",
    "mylist = ['x','y','z']\n",
    "newlist = [a*b*c for a in printrange for b in printrange for c in mylist]\n",
    "newlist"
   ]
  },
  {
   "cell_type": "code",
   "execution_count": 200,
   "metadata": {},
   "outputs": [],
   "source": [
    "#    [[2], [3], [4], [3], [4], [5], [4], [5], [6]]"
   ]
  },
  {
   "cell_type": "code",
   "execution_count": 201,
   "metadata": {},
   "outputs": [
    {
     "data": {
      "text/plain": [
       "[[2], [3], [4], [3], [4], [5], [4], [5], [6]]"
      ]
     },
     "execution_count": 201,
     "metadata": {},
     "output_type": "execute_result"
    }
   ],
   "source": [
    "mylist =[]\n",
    "for y in range(3):\n",
    "    for x in range(2,5):\n",
    "        mylist.append([x+y])\n",
    "mylist"
   ]
  },
  {
   "cell_type": "code",
   "execution_count": 202,
   "metadata": {},
   "outputs": [
    {
     "data": {
      "text/plain": [
       "[[2], [3], [4], [3], [4], [5], [4], [5], [6]]"
      ]
     },
     "execution_count": 202,
     "metadata": {},
     "output_type": "execute_result"
    }
   ],
   "source": [
    "mylist = [[x+y] for y in range(3) for x in range(2,5)]\n",
    "mylist"
   ]
  },
  {
   "cell_type": "code",
   "execution_count": 203,
   "metadata": {},
   "outputs": [],
   "source": [
    "# [[2, 3, 4, 5], [3, 4, 5, 6], [4, 5, 6, 7], [5, 6, 7, 8]]"
   ]
  },
  {
   "cell_type": "code",
   "execution_count": 204,
   "metadata": {},
   "outputs": [
    {
     "data": {
      "text/plain": [
       "[(1, 1), (2, 1), (3, 1), (1, 2), (2, 2), (3, 2), (1, 3), (2, 3), (3, 3)]"
      ]
     },
     "execution_count": 204,
     "metadata": {},
     "output_type": "execute_result"
    }
   ],
   "source": [
    "#  [(1, 1), (2, 1), (3, 1), (1, 2), (2, 2), (3, 2), (1, 3), (2, 3), (3, 3)]\n",
    "mylist = [(x,y) for y in range(1,4) for x in range(1,4)]\n",
    "mylist"
   ]
  },
  {
   "cell_type": "code",
   "execution_count": 205,
   "metadata": {},
   "outputs": [],
   "source": [
    "# Task 1 Q3 : Implement a function longestWord() that takes a list of words and returns the longest one."
   ]
  },
  {
   "cell_type": "code",
   "execution_count": 206,
   "metadata": {},
   "outputs": [],
   "source": [
    "def LongestWord(mylist):\n",
    "    newlist=[]\n",
    "    for i in mylist:\n",
    "        newlist.append(len(i))\n",
    "    wordloc = newlist.index(max(newlist))\n",
    "    return print(\"Longest Word from the list is - \",mylist[wordloc])"
   ]
  },
  {
   "cell_type": "code",
   "execution_count": 207,
   "metadata": {},
   "outputs": [],
   "source": [
    "mylist = ['cat','lion','zebra','elephant','octopus','mouse']"
   ]
  },
  {
   "cell_type": "code",
   "execution_count": 208,
   "metadata": {},
   "outputs": [
    {
     "name": "stdout",
     "output_type": "stream",
     "text": [
      "Longest Word from the list is -  elephant\n"
     ]
    }
   ],
   "source": [
    "LongestWord(mylist)"
   ]
  },
  {
   "cell_type": "code",
   "execution_count": 209,
   "metadata": {},
   "outputs": [],
   "source": [
    "# Task2 Q1.1 Write a Python Program(with class concepts) to find the area of the triangle using the below formula.\n",
    "#            area = (s*(s-a)*(s-b)*(s-c)) ** 0.5\n",
    "#            Function to take the length of the sides of triangle from user should be defined in the parent\n",
    "#            class and function to calculate the area should be defined in subclass."
   ]
  },
  {
   "cell_type": "code",
   "execution_count": 210,
   "metadata": {},
   "outputs": [],
   "source": [
    "class Triangle(object):\n",
    "    import math\n",
    "    def __init__(self,a,b,c):\n",
    "        self.side1 = a\n",
    "        self.side2 = b\n",
    "        self.side3 = c\n",
    "    def get_tri_area(self):\n",
    "        s= (self.side1+self.side2+self.side3)/2\n",
    "        area = math.sqrt(s*(s-self.side1)*(s-self.side2)*(s-self.side3))\n",
    "        return area\n"
   ]
  },
  {
   "cell_type": "code",
   "execution_count": 211,
   "metadata": {},
   "outputs": [],
   "source": [
    "area = Triangle(15,16,17)"
   ]
  },
  {
   "cell_type": "code",
   "execution_count": 212,
   "metadata": {},
   "outputs": [
    {
     "data": {
      "text/plain": [
       "109.98181667894016"
      ]
     },
     "execution_count": 212,
     "metadata": {},
     "output_type": "execute_result"
    }
   ],
   "source": [
    "area.get_tri_area()"
   ]
  },
  {
   "cell_type": "code",
   "execution_count": 213,
   "metadata": {},
   "outputs": [],
   "source": [
    "# Task2- Q1.2  Write a function filter_long_words() that takes a list of words and an integer n and returns the list\n",
    "#              of words that are longer than n."
   ]
  },
  {
   "cell_type": "code",
   "execution_count": 214,
   "metadata": {},
   "outputs": [],
   "source": [
    "def filter_Long_words(mylist,n):\n",
    "    newlist=[]\n",
    "    for i in range(len(mylist)):\n",
    "        if len(mylist[i])>n:\n",
    "            newlist.append(mylist[i])\n",
    "    return print(\"List of words longer than \",n,\":\", newlist)"
   ]
  },
  {
   "cell_type": "code",
   "execution_count": 215,
   "metadata": {},
   "outputs": [],
   "source": [
    "mylist = ['cat','lion','zebra','elephant','octopus','mouse','orangutan','cheetah']"
   ]
  },
  {
   "cell_type": "code",
   "execution_count": 216,
   "metadata": {},
   "outputs": [
    {
     "name": "stdout",
     "output_type": "stream",
     "text": [
      "List of words longer than  4 : ['zebra', 'elephant', 'octopus', 'mouse', 'orangutan', 'cheetah']\n"
     ]
    }
   ],
   "source": [
    "filter_Long_words(mylist,4)"
   ]
  },
  {
   "cell_type": "code",
   "execution_count": 217,
   "metadata": {},
   "outputs": [
    {
     "name": "stdout",
     "output_type": "stream",
     "text": [
      "List of words longer than  5 : ['elephant', 'octopus', 'orangutan', 'cheetah']\n"
     ]
    }
   ],
   "source": [
    "filter_Long_words(mylist,5)"
   ]
  },
  {
   "cell_type": "code",
   "execution_count": 218,
   "metadata": {},
   "outputs": [],
   "source": [
    "# Task 2 Q2.1 - Write a Python program using function concept that maps list of words into a list of integers\n",
    "#             representing the lengths of the corresponding words.\n",
    "#             Hint: ​If a list [ ab,cde,erty] is passed on to the python function output should come as [2,3,4]\n",
    "#             Here 2,3 and 4 are the lengths of the words in the list."
   ]
  },
  {
   "cell_type": "code",
   "execution_count": 219,
   "metadata": {},
   "outputs": [],
   "source": [
    "def return_length(mylist):\n",
    "    intnewlist=[]\n",
    "    for i in mylist:\n",
    "        intnewlist.append(len(i))\n",
    "    return intnewlist"
   ]
  },
  {
   "cell_type": "code",
   "execution_count": 220,
   "metadata": {},
   "outputs": [
    {
     "data": {
      "text/plain": [
       "[2, 3, 4]"
      ]
     },
     "execution_count": 220,
     "metadata": {},
     "output_type": "execute_result"
    }
   ],
   "source": [
    "mylist = ['ab','cde','erty']\n",
    "return_length(mylist)"
   ]
  },
  {
   "cell_type": "code",
   "execution_count": 221,
   "metadata": {},
   "outputs": [],
   "source": [
    "# Task2 Q2.2 - Write a Python function which takes a character (i.e. a string of length 1) and returns True if it is\n",
    "#            a vowel, False otherwise."
   ]
  },
  {
   "cell_type": "code",
   "execution_count": 222,
   "metadata": {},
   "outputs": [],
   "source": [
    "def vowel(char):\n",
    "    my_vowel =['a','e','i','o','u']\n",
    "    if char in my_vowel:\n",
    "        return True\n",
    "    else:\n",
    "        return False\n",
    "        "
   ]
  },
  {
   "cell_type": "code",
   "execution_count": 223,
   "metadata": {},
   "outputs": [
    {
     "data": {
      "text/plain": [
       "True"
      ]
     },
     "execution_count": 223,
     "metadata": {},
     "output_type": "execute_result"
    }
   ],
   "source": [
    "vowel('a')"
   ]
  },
  {
   "cell_type": "code",
   "execution_count": 224,
   "metadata": {},
   "outputs": [
    {
     "data": {
      "text/plain": [
       "False"
      ]
     },
     "execution_count": 224,
     "metadata": {},
     "output_type": "execute_result"
    }
   ],
   "source": [
    "vowel('x')"
   ]
  },
  {
   "cell_type": "code",
   "execution_count": null,
   "metadata": {},
   "outputs": [],
   "source": []
  }
 ],
 "metadata": {
  "kernelspec": {
   "display_name": "Python 3",
   "language": "python",
   "name": "python3"
  },
  "language_info": {
   "codemirror_mode": {
    "name": "ipython",
    "version": 3
   },
   "file_extension": ".py",
   "mimetype": "text/x-python",
   "name": "python",
   "nbconvert_exporter": "python",
   "pygments_lexer": "ipython3",
   "version": "3.7.1"
  }
 },
 "nbformat": 4,
 "nbformat_minor": 2
}
